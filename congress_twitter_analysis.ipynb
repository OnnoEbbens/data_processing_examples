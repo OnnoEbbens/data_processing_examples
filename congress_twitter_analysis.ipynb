{
 "cells": [
  {
   "cell_type": "markdown",
   "metadata": {},
   "source": [
    "<figure>\n",
    "   <IMG SRC=\"https://mamba-python.nl/images/logo_basis.png\" WIDTH=125 ALIGN=\"right\">\n",
    "</figure>\n",
    "# Congress twitter analysis\n",
    "\n",
    "developed by Onno Ebbens\n",
    "\n",
    "\n",
    "\n",
    "this notebook is created for the Mamba python course as an example for big data analysis."
   ]
  },
  {
   "cell_type": "markdown",
   "metadata": {},
   "source": [
    "## 1. Import files\n"
   ]
  },
  {
   "cell_type": "code",
   "execution_count": 1,
   "metadata": {
    "collapsed": true
   },
   "outputs": [],
   "source": [
    "import pandas as pd\n",
    "import textblob as tb\n",
    "import matplotlib.pyplot as plt\n",
    "import datetime as dt\n",
    "import pickle"
   ]
  },
  {
   "cell_type": "code",
   "execution_count": 2,
   "metadata": {
    "collapsed": true
   },
   "outputs": [],
   "source": [
    "#settings\n",
    "%matplotlib inline\n",
    "plt.style.use('seaborn')"
   ]
  },
  {
   "cell_type": "markdown",
   "metadata": {},
   "source": [
    "## 2. Read the twitter data"
   ]
  },
  {
   "cell_type": "code",
   "execution_count": 3,
   "metadata": {
    "collapsed": true
   },
   "outputs": [],
   "source": [
    "start_datum = dt.datetime(2018,2,1)\n",
    "eind_datum = dt.datetime(2018,8,1)\n",
    "date_range = pd.date_range(start_datum, eind_datum)"
   ]
  },
  {
   "cell_type": "code",
   "execution_count": 4,
   "metadata": {
    "scrolled": true
   },
   "outputs": [
    {
     "name": "stdout",
     "output_type": "stream",
     "text": [
      "2018-02-01 00:00:00\n",
      "2018-02-02 00:00:00\n",
      "2018-02-03 00:00:00\n",
      "2018-02-04 00:00:00\n",
      "2018-02-05 00:00:00\n",
      "2018-02-06 00:00:00\n",
      "2018-02-07 00:00:00\n",
      "2018-02-08 00:00:00\n",
      "2018-02-09 00:00:00\n",
      "2018-02-10 00:00:00\n",
      "2018-02-11 00:00:00\n",
      "2018-02-12 00:00:00\n",
      "2018-02-13 00:00:00\n",
      "2018-02-14 00:00:00\n",
      "2018-02-15 00:00:00\n",
      "2018-02-16 00:00:00\n",
      "2018-02-17 00:00:00\n",
      "2018-02-18 00:00:00\n",
      "2018-02-19 00:00:00\n",
      "2018-02-20 00:00:00\n",
      "2018-02-21 00:00:00\n",
      "2018-02-22 00:00:00\n",
      "2018-02-23 00:00:00\n",
      "2018-02-24 00:00:00\n",
      "2018-02-25 00:00:00\n",
      "2018-02-26 00:00:00\n",
      "2018-02-27 00:00:00\n",
      "2018-02-28 00:00:00\n",
      "2018-03-01 00:00:00\n",
      "2018-03-02 00:00:00\n",
      "2018-03-03 00:00:00\n",
      "2018-03-04 00:00:00\n",
      "2018-03-05 00:00:00\n",
      "2018-03-06 00:00:00\n",
      "2018-03-07 00:00:00\n",
      "2018-03-08 00:00:00\n",
      "2018-03-09 00:00:00\n",
      "2018-03-10 00:00:00\n",
      "2018-03-11 00:00:00\n",
      "2018-03-12 00:00:00\n",
      "2018-03-13 00:00:00\n",
      "2018-03-14 00:00:00\n",
      "2018-03-15 00:00:00\n",
      "2018-03-16 00:00:00\n",
      "2018-03-17 00:00:00\n",
      "2018-03-18 00:00:00\n",
      "2018-03-19 00:00:00\n",
      "2018-03-20 00:00:00\n",
      "2018-03-21 00:00:00\n",
      "2018-03-22 00:00:00\n",
      "2018-03-23 00:00:00\n",
      "2018-03-24 00:00:00\n",
      "2018-03-25 00:00:00\n",
      "2018-03-26 00:00:00\n",
      "2018-03-27 00:00:00\n",
      "2018-03-28 00:00:00\n",
      "2018-03-29 00:00:00\n",
      "2018-03-30 00:00:00\n",
      "2018-03-31 00:00:00\n",
      "2018-04-01 00:00:00\n",
      "2018-04-02 00:00:00\n",
      "2018-04-03 00:00:00\n",
      "2018-04-04 00:00:00\n",
      "2018-04-05 00:00:00\n",
      "2018-04-06 00:00:00\n",
      "2018-04-07 00:00:00\n",
      "2018-04-08 00:00:00\n",
      "2018-04-09 00:00:00\n",
      "2018-04-10 00:00:00\n",
      "2018-04-11 00:00:00\n",
      "2018-04-12 00:00:00\n",
      "2018-04-13 00:00:00\n",
      "2018-04-14 00:00:00\n",
      "2018-04-15 00:00:00\n",
      "2018-04-16 00:00:00\n",
      "2018-04-17 00:00:00\n",
      "2018-04-18 00:00:00\n",
      "2018-04-19 00:00:00\n",
      "2018-04-20 00:00:00\n",
      "2018-04-21 00:00:00\n",
      "2018-04-22 00:00:00\n",
      "2018-04-23 00:00:00\n",
      "2018-04-24 00:00:00\n",
      "2018-04-25 00:00:00\n",
      "2018-04-26 00:00:00\n",
      "2018-04-27 00:00:00\n",
      "2018-04-28 00:00:00\n",
      "2018-04-29 00:00:00\n",
      "2018-04-30 00:00:00\n",
      "2018-05-01 00:00:00\n",
      "2018-05-02 00:00:00\n",
      "2018-05-03 00:00:00\n",
      "2018-05-04 00:00:00\n",
      "2018-05-05 00:00:00\n",
      "2018-05-06 00:00:00\n",
      "2018-05-07 00:00:00\n",
      "2018-05-08 00:00:00\n",
      "2018-05-09 00:00:00\n",
      "2018-05-10 00:00:00\n",
      "2018-05-11 00:00:00\n",
      "2018-05-12 00:00:00\n",
      "2018-05-13 00:00:00\n",
      "2018-05-14 00:00:00\n",
      "2018-05-15 00:00:00\n",
      "2018-05-16 00:00:00\n",
      "2018-05-17 00:00:00\n",
      "2018-05-18 00:00:00\n",
      "2018-05-19 00:00:00\n",
      "2018-05-20 00:00:00\n",
      "2018-05-21 00:00:00\n",
      "2018-05-22 00:00:00\n",
      "2018-05-23 00:00:00\n",
      "2018-05-24 00:00:00\n",
      "2018-05-25 00:00:00\n",
      "2018-05-26 00:00:00\n",
      "2018-05-27 00:00:00\n",
      "2018-05-28 00:00:00\n",
      "2018-05-29 00:00:00\n",
      "2018-05-30 00:00:00\n",
      "2018-05-31 00:00:00\n",
      "2018-06-01 00:00:00\n",
      "2018-06-02 00:00:00\n",
      "2018-06-03 00:00:00\n",
      "2018-06-04 00:00:00\n",
      "2018-06-05 00:00:00\n",
      "2018-06-06 00:00:00\n",
      "2018-06-07 00:00:00\n",
      "2018-06-08 00:00:00\n",
      "2018-06-09 00:00:00\n",
      "2018-06-10 00:00:00\n",
      "2018-06-11 00:00:00\n",
      "2018-06-12 00:00:00\n",
      "2018-06-13 00:00:00\n",
      "2018-06-14 00:00:00\n",
      "2018-06-15 00:00:00\n",
      "2018-06-16 00:00:00\n",
      "2018-06-17 00:00:00\n",
      "2018-06-18 00:00:00\n",
      "2018-06-19 00:00:00\n",
      "2018-06-20 00:00:00\n",
      "2018-06-21 00:00:00\n",
      "2018-06-22 00:00:00\n",
      "2018-06-23 00:00:00\n",
      "2018-06-24 00:00:00\n",
      "2018-06-25 00:00:00\n",
      "2018-06-26 00:00:00\n",
      "2018-06-27 00:00:00\n",
      "2018-06-28 00:00:00\n",
      "2018-06-29 00:00:00\n",
      "2018-06-30 00:00:00\n",
      "2018-07-01 00:00:00\n",
      "2018-07-02 00:00:00\n",
      "2018-07-03 00:00:00\n",
      "2018-07-04 00:00:00\n",
      "2018-07-05 00:00:00\n",
      "2018-07-06 00:00:00\n",
      "2018-07-07 00:00:00\n",
      "2018-07-08 00:00:00\n",
      "2018-07-09 00:00:00\n",
      "2018-07-10 00:00:00\n",
      "2018-07-11 00:00:00\n",
      "2018-07-12 00:00:00\n",
      "2018-07-13 00:00:00\n",
      "2018-07-14 00:00:00\n",
      "2018-07-15 00:00:00\n",
      "2018-07-16 00:00:00\n",
      "2018-07-17 00:00:00\n",
      "2018-07-18 00:00:00\n",
      "2018-07-19 00:00:00\n",
      "2018-07-20 00:00:00\n",
      "2018-07-21 00:00:00\n",
      "2018-07-22 00:00:00\n",
      "2018-07-23 00:00:00\n",
      "2018-07-24 00:00:00\n",
      "2018-07-25 00:00:00\n",
      "2018-07-26 00:00:00\n",
      "2018-07-27 00:00:00\n",
      "2018-07-28 00:00:00\n",
      "2018-07-29 00:00:00\n",
      "2018-07-30 00:00:00\n",
      "2018-07-31 00:00:00\n",
      "2018-08-01 00:00:00\n"
     ]
    }
   ],
   "source": [
    "twitter_data = pd.DataFrame()\n",
    "for datum in date_range:\n",
    "    print(datum)\n",
    "    twitter_data_day = pd.read_json('https://raw.githubusercontent.com/alexlitel/congresstweets/master/data/%s.json'%datum.strftime('%Y-%m-%d'))\n",
    "    twitter_data_day.index= pd.to_datetime(twitter_data_day.time)\n",
    "    twitter_data = pd.concat([twitter_data, twitter_data_day])"
   ]
  },
  {
   "cell_type": "markdown",
   "metadata": {},
   "source": [
    "## 3. read the user data and their partys"
   ]
  },
  {
   "cell_type": "code",
   "execution_count": 7,
   "metadata": {
    "collapsed": true
   },
   "outputs": [],
   "source": [
    "user_twitter = pd.read_json('https://raw.githubusercontent.com/alexlitel/congresstweets-automator/master/data/historical-users-filtered.json')"
   ]
  },
  {
   "cell_type": "code",
   "execution_count": 8,
   "metadata": {
    "collapsed": true
   },
   "outputs": [],
   "source": [
    "user_twitter['user_id'] = user_twitter.accounts.apply(lambda x: int(x[0]['id']))\n",
    "user_twitter['screen_name'] = user_twitter.accounts.apply(lambda x: x[0]['screen_name'])"
   ]
  },
  {
   "cell_type": "markdown",
   "metadata": {},
   "source": [
    "## 4. combine datasets"
   ]
  },
  {
   "cell_type": "code",
   "execution_count": 7,
   "metadata": {},
   "outputs": [
    {
     "name": "stderr",
     "output_type": "stream",
     "text": [
      "C:\\Anaconda3\\lib\\site-packages\\ipykernel_launcher.py:1: FutureWarning: Method .as_matrix will be removed in a future version. Use .values instead.\n",
      "  \"\"\"Entry point for launching an IPython kernel.\n"
     ]
    }
   ],
   "source": [
    "# twitter_data['party'] = twitter_data.user_id.apply(lambda x: user_twitter[user_twitter.user_id==x]['party'].as_matrix()[0] if x in user_twitter.user_id.as_matrix() else 'U')"
   ]
  },
  {
   "cell_type": "markdown",
   "metadata": {},
   "source": [
    "## 5. analyze twitter data per party"
   ]
  },
  {
   "cell_type": "code",
   "execution_count": null,
   "metadata": {
    "collapsed": true
   },
   "outputs": [],
   "source": [
    "twitter_data['polarity'] = twitter_data.text.apply(lambda x: tb.Sentence(x).sentiment.polarity)"
   ]
  },
  {
   "cell_type": "code",
   "execution_count": null,
   "metadata": {
    "collapsed": true
   },
   "outputs": [],
   "source": [
    "with open(r'data\\twitter_data.pickle', 'wb') as pfile:\n",
    "    pickle.dump(twitter_data, pfile)\n",
    "# with open(r'data\\twitter_data.pickle', 'rb') as pfile:\n",
    "#     twitter_data = pickle.load(pfile)"
   ]
  },
  {
   "cell_type": "code",
   "execution_count": 17,
   "metadata": {},
   "outputs": [
    {
     "name": "stdout",
     "output_type": "stream",
     "text": [
      "resultaat republikeinen\n",
      "aantal tweets geanalyseerd: 92282\n",
      "gemiddelde polariteit:      0.20\n"
     ]
    }
   ],
   "source": [
    "print('resultaat republikeinen')\n",
    "print('aantal tweets geanalyseerd: %i'%twitter_data[twitter_data.party=='R'].shape[0])\n",
    "print('gemiddelde polariteit:      %.2f'%twitter_data[twitter_data.party=='R'].polarity.mean())"
   ]
  },
  {
   "cell_type": "code",
   "execution_count": 18,
   "metadata": {},
   "outputs": [
    {
     "name": "stdout",
     "output_type": "stream",
     "text": [
      "resultaat democraten\n",
      "aantal tweets geanalyseerd: 151440\n",
      "gemiddelde polariteit:      0.13\n"
     ]
    }
   ],
   "source": [
    "print('resultaat democraten')\n",
    "print('aantal tweets geanalyseerd: %i'%twitter_data[twitter_data.party=='D'].shape[0])\n",
    "print('gemiddelde polariteit:      %.2f'%twitter_data[twitter_data.party=='D'].polarity.mean())"
   ]
  },
  {
   "cell_type": "code",
   "execution_count": 19,
   "metadata": {
    "collapsed": true
   },
   "outputs": [],
   "source": [
    "twitter_data_rel = twitter_data[['screen_name','party', 'polarity', 'text']]\n",
    "twitter_data_d_daily_average = twitter_data_rel[twitter_data_rel.party=='D'].resample('D').mean()\n",
    "twitter_data_r_daily_average = twitter_data_rel[twitter_data_rel.party=='R'].resample('D').mean()"
   ]
  },
  {
   "cell_type": "markdown",
   "metadata": {},
   "source": [
    "## 5 Plot results"
   ]
  },
  {
   "cell_type": "code",
   "execution_count": 176,
   "metadata": {
    "collapsed": true
   },
   "outputs": [],
   "source": [
    "def add_annotation(ax, day, twitter_data_daily_average, \n",
    "                   connectionstyle, text, x_afstand=-20, y_afstand=0.3, facecolor='green', linewidth=None,\n",
    "                   edgecolor=None):\n",
    "    \n",
    "    pol_day_party = twitter_data_daily_average[day:day]['polarity'].values[0]\n",
    "    ax.annotate(text, \n",
    "                xy=(day, pol_day_party), \n",
    "                xytext=(day+dt.timedelta(x_afstand), pol_day_party+y_afstand), \n",
    "                fontsize=12,\n",
    "                arrowprops=dict(arrowstyle=\"fancy\", \n",
    "                                facecolor=facecolor, \n",
    "                                edgecolor=edgecolor ,\n",
    "                                lw=linewidth,\n",
    "                                connectionstyle=connectionstyle))\n",
    "    return ax"
   ]
  },
  {
   "cell_type": "code",
   "execution_count": 187,
   "metadata": {},
   "outputs": [
    {
     "data": {
      "text/plain": [
       "1.5"
      ]
     },
     "execution_count": 187,
     "metadata": {},
     "output_type": "execute_result"
    }
   ],
   "source": [
    "1920/1280"
   ]
  },
  {
   "cell_type": "code",
   "execution_count": 203,
   "metadata": {
    "scrolled": false
   },
   "outputs": [
    {
     "data": {
      "image/png": "[encoded data removed]",
      "text/plain": [
       "<matplotlib.figure.Figure at 0x2ddfd7e3780>"
      ]
     },
     "metadata": {},
     "output_type": "display_data"
    }
   ],
   "source": [
    "# plot\n",
    "desired_width = 1920\n",
    "desired_height = 1280\n",
    "fig = plt.figure(figsize=(16,16/2.75))\n",
    "ax = plt.subplot()\n",
    "twitter_data_d_daily_average.polarity.plot(ax=ax, linestyle=None, marker='.', color='blue', label='Democrats')\n",
    "twitter_data_r_daily_average.polarity.plot(ax=ax, linestyle=None, marker='.', color='red', label='Republicans')\n",
    "\n",
    "# add notation for mother's day and April fools\n",
    "ax = add_annotation(ax, dt.datetime(2018,4,1), twitter_data_r_daily_average, \"angle3,angleA=90,angleB=0\",\n",
    "                    'Easter')\n",
    "\n",
    "ax = add_annotation(ax, dt.datetime(2018,5,13), twitter_data_r_daily_average, \"arc3,rad=-0.3\",\n",
    "                    \"mother's day\", x_afstand=2, facecolor='blue')\n",
    "\n",
    "ax = add_annotation(ax, dt.datetime(2018,6,17), twitter_data_r_daily_average, \"arc3,rad=-0.3\",\n",
    "                    \"father's day\", x_afstand=-2, facecolor='magenta')\n",
    "\n",
    "ax = add_annotation(ax, dt.datetime(2018,6,18), twitter_data_d_daily_average, \"arc3,rad=-0.2\",\n",
    "                    \"refugee family separation\", x_afstand=-30, y_afstand=-0.3, facecolor='orange')\n",
    "\n",
    "ax = add_annotation(ax, dt.datetime(2018,7,4), twitter_data_r_daily_average, \"arc3,rad=-0.2\",\n",
    "                    \"independence day\", x_afstand=2 , facecolor='red', edgecolor='blue', linewidth=1)\n",
    "\n",
    "ax.set_ylim(-0.5,0.9)\n",
    "ax.set_xlabel('')\n",
    "ax.set_ylabel('polarity of tweets')\n",
    "ax.set_yticklabels([])\n",
    "\n",
    "xmin, xmax = ax.get_xlim()\n",
    "ymin, ymax = ax.get_ylim()\n",
    "\n",
    "\n",
    "ax.text(xmin-5, ymax-0.04, r'positive $\\longrightarrow$', rotation=90, fontsize=12)\n",
    "ax.text(xmin-5, ymin+0.24, r'$\\longleftarrow$ negative', rotation=90, fontsize=12)\n",
    "\n",
    "\n",
    "\n",
    "\n",
    "box = ax.get_position()\n",
    "ax.set_position([box.x0, box.y0 + box.height * 0.1,\n",
    "                 box.width, box.height * 0.9])\n",
    "\n",
    "\n",
    "# Put a legend below current axis\n",
    "leg = ax.legend(loc='upper center', bbox_to_anchor=(0.5, -0.1),\n",
    "                frameon=True, facecolor='white', edgecolor='black', shadow=True, ncol=5)\n",
    "\n",
    "ax.set_title('Twitter analysis US congress')\n",
    "\n",
    "#plt.xlim(dt.datetime(2018,5,9),dt.datetime(2018,5,15))\n",
    "fig.savefig(r'C:\\Users\\onno__000\\Documents\\04_mamba\\04_website\\www\\images\\twitter_analysis.png', dpi=500)"
   ]
  },
  {
   "cell_type": "code",
   "execution_count": null,
   "metadata": {
    "collapsed": true
   },
   "outputs": [],
   "source": []
  }
 ],
 "metadata": {
  "kernelspec": {
   "display_name": "Python 3",
   "language": "python",
   "name": "python3"
  },
  "language_info": {
   "codemirror_mode": {
    "name": "ipython",
    "version": 3
   },
   "file_extension": ".py",
   "mimetype": "text/x-python",
   "name": "python",
   "nbconvert_exporter": "python",
   "pygments_lexer": "ipython3",
   "version": "3.6.3"
  }
 },
 "nbformat": 4,
 "nbformat_minor": 2
}
